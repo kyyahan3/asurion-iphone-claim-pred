{
 "cells": [
  {
   "cell_type": "code",
   "execution_count": 3,
   "metadata": {
    "collapsed": true
   },
   "outputs": [],
   "source": [
    "import numpy as np"
   ]
  },
  {
   "cell_type": "markdown",
   "metadata": {},
   "source": [
    "## Function to calculate WMAPE score"
   ]
  },
  {
   "cell_type": "code",
   "execution_count": 4,
   "metadata": {
    "collapsed": true
   },
   "outputs": [],
   "source": [
    "def wmape(actual, forecast):\n",
    "    \"\"\"Calculate Weighted Mean Absolute Percentage Error (WMAPE) with equal weights\"\"\"\n",
    " \n",
    "    numerator = np.sum(np.abs(actual - forecast)) * 100\n",
    "    denominator = np.sum(np.abs(actual))\n",
    "\n",
    "    return numerator/denominator"
   ]
  },
  {
   "cell_type": "code",
   "execution_count": 6,
   "metadata": {},
   "outputs": [
    {
     "name": "stdout",
     "output_type": "stream",
     "text": [
      "WMAPE: 30.43%\n"
     ]
    }
   ],
   "source": [
    "# Test on example\n",
    "forecast = np.array([5, 10, 5])\n",
    "actual = np.array([3, 15, 5])\n",
    "\n",
    "wmape_value = wmape(actual, forecast)\n",
    "print(\"WMAPE: {:.2f}%\".format(wmape_value))"
   ]
  },
  {
   "cell_type": "markdown",
   "metadata": {},
   "source": []
  }
 ],
 "metadata": {
  "interpreter": {
   "hash": "4533c38f734945b145a0b739c2b06b7f9f86210b5735e7bb705d4e9923f99e0d"
  },
  "kernelspec": {
   "display_name": "Python 3",
   "language": "python",
   "name": "python3"
  },
  "language_info": {
   "codemirror_mode": {
    "name": "ipython",
    "version": 3
   },
   "file_extension": ".py",
   "mimetype": "text/x-python",
   "name": "python",
   "nbconvert_exporter": "python",
   "pygments_lexer": "ipython3",
   "version": "3.6.3"
  }
 },
 "nbformat": 4,
 "nbformat_minor": 2
}
