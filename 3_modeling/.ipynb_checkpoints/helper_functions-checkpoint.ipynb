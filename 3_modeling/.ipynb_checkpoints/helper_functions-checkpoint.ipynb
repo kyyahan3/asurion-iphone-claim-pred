{
 "cells": [
  {
   "cell_type": "code",
   "execution_count": 2,
   "metadata": {},
   "outputs": [],
   "source": [
    "import numpy as np"
   ]
  },
  {
   "cell_type": "markdown",
   "metadata": {},
   "source": [
    "## Function to calculate WMAPE score"
   ]
  },
  {
   "cell_type": "code",
   "execution_count": 39,
   "metadata": {},
   "outputs": [],
   "source": [
    "\n",
    "# Reference: https://www.indeed.com/career-advice/career-development/weighted-mean-absolute-percentage-error\n",
    "\n",
    "def wmape(actual, forecast):\n",
    "    \"\"\"Calculate Weighted Mean Absolute Percentage Error (WMAPE) with equal weights\"\"\"\n",
    " \n",
    "    weights = np.abs(actual - forecast) * 100 / actual\n",
    "    numerator = np.sum(weights/actual)\n",
    "    denominator = np.sum(actual)\n",
    "\n",
    "    return numerator/denominator"
   ]
  },
  {
   "cell_type": "code",
   "execution_count": 40,
   "metadata": {},
   "outputs": [
    {
     "name": "stdout",
     "output_type": "stream",
     "text": [
      "WMAPE: 1.06%\n"
     ]
    }
   ],
   "source": [
    "# Test on example from article\n",
    "forecast = np.array([5, 10, 5])\n",
    "actual = np.array([3, 15, 5])\n",
    "\n",
    "wmape_value = wmape(actual, forecast)\n",
    "print(\"WMAPE: {:.2f}%\".format(wmape_value))"
   ]
  },
  {
   "cell_type": "markdown",
   "metadata": {},
   "source": [
    "_Note: We get a slightly different value than the article, due to a typo in the article itself. In step 4, when calculating the sum of the actuals, they use 0 as the last number instead of 5. They get a sum of 18 = 3 + 15 + 0, however, the true sum is 23 = 3 + 15 + 5._"
   ]
  }
 ],
 "metadata": {
  "interpreter": {
   "hash": "4533c38f734945b145a0b739c2b06b7f9f86210b5735e7bb705d4e9923f99e0d"
  },
  "kernelspec": {
   "display_name": "Python 3.10.9 64-bit ('mgt6632': conda)",
   "name": "python3"
  },
  "language_info": {
   "codemirror_mode": {
    "name": "ipython",
    "version": 3
   },
   "file_extension": ".py",
   "mimetype": "text/x-python",
   "name": "python",
   "nbconvert_exporter": "python",
   "pygments_lexer": "ipython3",
   "version": "3.10.9"
  }
 },
 "nbformat": 4,
 "nbformat_minor": 2
}
