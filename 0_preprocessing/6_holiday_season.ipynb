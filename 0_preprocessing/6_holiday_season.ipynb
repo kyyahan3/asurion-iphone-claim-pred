{
 "cells": [
  {
   "cell_type": "markdown",
   "id": "d1dc8a14",
   "metadata": {},
   "source": [
    "### Add Holiday\n",
    "In this file, we add the is_holiday column based on the 'clean_data_50weeks.xlsx' file."
   ]
  },
  {
   "cell_type": "code",
   "execution_count": 3,
   "id": "721a22c6",
   "metadata": {},
   "outputs": [],
   "source": [
    "import pandas as pd\n",
    "# import matplotlib.pyplot as plt\n",
    "import numpy as np\n",
    "import copy\n",
    "from pandas.tseries.holiday import USFederalHolidayCalendar as calendar"
   ]
  },
  {
   "cell_type": "markdown",
   "id": "f2d44327",
   "metadata": {},
   "source": [
    "\"Back to School Season\" : 2021-06-21 to 2021-09-27; 2022-06-27 to 2022-09-26\n",
    "\n",
    "\"Christmas Season\": 2021-12-27; 2022-12-26\n",
    "\n",
    "\"Cyber Monday\" : 2021-11-29; 2022-11-28\n"
   ]
  },
  {
   "cell_type": "code",
   "execution_count": 20,
   "id": "745dea11",
   "metadata": {},
   "outputs": [
    {
     "data": {
      "text/html": [
       "<div>\n",
       "<style scoped>\n",
       "    .dataframe tbody tr th:only-of-type {\n",
       "        vertical-align: middle;\n",
       "    }\n",
       "\n",
       "    .dataframe tbody tr th {\n",
       "        vertical-align: top;\n",
       "    }\n",
       "\n",
       "    .dataframe thead th {\n",
       "        text-align: right;\n",
       "    }\n",
       "</style>\n",
       "<table border=\"1\" class=\"dataframe\">\n",
       "  <thead>\n",
       "    <tr style=\"text-align: right;\">\n",
       "      <th></th>\n",
       "      <th>phone model</th>\n",
       "      <th>phone size</th>\n",
       "      <th>phone color</th>\n",
       "      <th>claim</th>\n",
       "      <th>weeks_monday</th>\n",
       "      <th>brand</th>\n",
       "      <th>model</th>\n",
       "      <th>generation</th>\n",
       "      <th>week_of_month</th>\n",
       "      <th>month</th>\n",
       "      <th>year</th>\n",
       "      <th>release</th>\n",
       "      <th>weeks_since_release</th>\n",
       "    </tr>\n",
       "    <tr>\n",
       "      <th>Unnamed: 0</th>\n",
       "      <th></th>\n",
       "      <th></th>\n",
       "      <th></th>\n",
       "      <th></th>\n",
       "      <th></th>\n",
       "      <th></th>\n",
       "      <th></th>\n",
       "      <th></th>\n",
       "      <th></th>\n",
       "      <th></th>\n",
       "      <th></th>\n",
       "      <th></th>\n",
       "      <th></th>\n",
       "    </tr>\n",
       "  </thead>\n",
       "  <tbody>\n",
       "    <tr>\n",
       "      <th>3059</th>\n",
       "      <td>apple iphone 12</td>\n",
       "      <td>128gb</td>\n",
       "      <td>black</td>\n",
       "      <td>14</td>\n",
       "      <td>2021-08-02</td>\n",
       "      <td>apple</td>\n",
       "      <td>iphone</td>\n",
       "      <td>12</td>\n",
       "      <td>1</td>\n",
       "      <td>8</td>\n",
       "      <td>2021</td>\n",
       "      <td>2020-11-13</td>\n",
       "      <td>37.428571</td>\n",
       "    </tr>\n",
       "    <tr>\n",
       "      <th>3060</th>\n",
       "      <td>apple iphone 12</td>\n",
       "      <td>128gb</td>\n",
       "      <td>black</td>\n",
       "      <td>43</td>\n",
       "      <td>2021-08-09</td>\n",
       "      <td>apple</td>\n",
       "      <td>iphone</td>\n",
       "      <td>12</td>\n",
       "      <td>2</td>\n",
       "      <td>8</td>\n",
       "      <td>2021</td>\n",
       "      <td>2020-11-13</td>\n",
       "      <td>38.428571</td>\n",
       "    </tr>\n",
       "    <tr>\n",
       "      <th>3061</th>\n",
       "      <td>apple iphone 12</td>\n",
       "      <td>128gb</td>\n",
       "      <td>black</td>\n",
       "      <td>57</td>\n",
       "      <td>2021-08-16</td>\n",
       "      <td>apple</td>\n",
       "      <td>iphone</td>\n",
       "      <td>12</td>\n",
       "      <td>3</td>\n",
       "      <td>8</td>\n",
       "      <td>2021</td>\n",
       "      <td>2020-11-13</td>\n",
       "      <td>39.428571</td>\n",
       "    </tr>\n",
       "    <tr>\n",
       "      <th>3062</th>\n",
       "      <td>apple iphone 12</td>\n",
       "      <td>128gb</td>\n",
       "      <td>black</td>\n",
       "      <td>65</td>\n",
       "      <td>2021-08-23</td>\n",
       "      <td>apple</td>\n",
       "      <td>iphone</td>\n",
       "      <td>12</td>\n",
       "      <td>4</td>\n",
       "      <td>8</td>\n",
       "      <td>2021</td>\n",
       "      <td>2020-11-13</td>\n",
       "      <td>40.428571</td>\n",
       "    </tr>\n",
       "    <tr>\n",
       "      <th>3063</th>\n",
       "      <td>apple iphone 12</td>\n",
       "      <td>128gb</td>\n",
       "      <td>black</td>\n",
       "      <td>59</td>\n",
       "      <td>2021-08-30</td>\n",
       "      <td>apple</td>\n",
       "      <td>iphone</td>\n",
       "      <td>12</td>\n",
       "      <td>5</td>\n",
       "      <td>8</td>\n",
       "      <td>2021</td>\n",
       "      <td>2020-11-13</td>\n",
       "      <td>41.428571</td>\n",
       "    </tr>\n",
       "  </tbody>\n",
       "</table>\n",
       "</div>"
      ],
      "text/plain": [
       "                phone model phone size phone color  claim weeks_monday  brand  \\\n",
       "Unnamed: 0                                                                      \n",
       "3059        apple iphone 12      128gb       black     14   2021-08-02  apple   \n",
       "3060        apple iphone 12      128gb       black     43   2021-08-09  apple   \n",
       "3061        apple iphone 12      128gb       black     57   2021-08-16  apple   \n",
       "3062        apple iphone 12      128gb       black     65   2021-08-23  apple   \n",
       "3063        apple iphone 12      128gb       black     59   2021-08-30  apple   \n",
       "\n",
       "             model  generation  week_of_month  month  year    release  \\\n",
       "Unnamed: 0                                                              \n",
       "3059        iphone          12              1      8  2021 2020-11-13   \n",
       "3060        iphone          12              2      8  2021 2020-11-13   \n",
       "3061        iphone          12              3      8  2021 2020-11-13   \n",
       "3062        iphone          12              4      8  2021 2020-11-13   \n",
       "3063        iphone          12              5      8  2021 2020-11-13   \n",
       "\n",
       "            weeks_since_release  \n",
       "Unnamed: 0                       \n",
       "3059                  37.428571  \n",
       "3060                  38.428571  \n",
       "3061                  39.428571  \n",
       "3062                  40.428571  \n",
       "3063                  41.428571  "
      ]
     },
     "execution_count": 20,
     "metadata": {},
     "output_type": "execute_result"
    }
   ],
   "source": [
    "data = pd.read_excel(\"/data/p_dsi/teams2023/team1/clean_data_50weeks.xlsx\", index_col=0).drop([\"Year\", \"Month\"], axis = 1)\n",
    "data.head()"
   ]
  },
  {
   "cell_type": "markdown",
   "id": "f77cf654",
   "metadata": {},
   "source": [
    "### use the package"
   ]
  },
  {
   "cell_type": "code",
   "execution_count": 10,
   "id": "e27b394a",
   "metadata": {},
   "outputs": [
    {
     "name": "stderr",
     "output_type": "stream",
     "text": [
      "/tmp/ipykernel_143369/2175679139.py:9: FutureWarning: Comparison of Timestamp with datetime.date is deprecated in order to match the standard library behavior. In a future version these will be considered non-comparable. Use 'ts == pd.Timestamp(date)' or 'ts.date() == date' instead.\n",
      "  data['is_holiday'] = data['weeks_monday'].apply(lambda x: 1 if x in holidays else 0)\n"
     ]
    }
   ],
   "source": [
    "# creating US holidays\n",
    "cal = calendar()\n",
    "start, end = min(data['weeks_monday']), max(data['weeks_monday'])\n",
    "holidays = cal.holidays(start=start, end=end).to_pydatetime()\n",
    "holidays = [x.date() for x in holidays]\n",
    "holidays\n",
    "\n",
    "# check if the date is a holiday\n",
    "data['is_holiday'] = data['weeks_monday'].apply(lambda x: 1 if x in holidays else 0)\n",
    "\n",
    "test = data.copy()\n",
    "test[\"phone model\"] = test[\"phone model\"].apply(lambda x: x.replace(\"apple iphone \", \"\"))"
   ]
  },
  {
   "cell_type": "code",
   "execution_count": 16,
   "id": "e6c4bdab",
   "metadata": {},
   "outputs": [
    {
     "data": {
      "text/plain": [
       "0    1030\n",
       "1     226\n",
       "Name: is_holiday, dtype: int64"
      ]
     },
     "execution_count": 16,
     "metadata": {},
     "output_type": "execute_result"
    }
   ],
   "source": [
    "data['is_holiday'].value_counts()"
   ]
  },
  {
   "cell_type": "code",
   "execution_count": 17,
   "id": "93d52ab7",
   "metadata": {},
   "outputs": [],
   "source": [
    "data.to_excel('/data/p_dsi/teams2023/team1/iphone_data.xlsx', index=False)"
   ]
  }
 ],
 "metadata": {
  "kernelspec": {
   "display_name": "Python 3 (ipykernel)",
   "language": "python",
   "name": "python3"
  },
  "language_info": {
   "codemirror_mode": {
    "name": "ipython",
    "version": 3
   },
   "file_extension": ".py",
   "mimetype": "text/x-python",
   "name": "python",
   "nbconvert_exporter": "python",
   "pygments_lexer": "ipython3",
   "version": "3.9.12"
  }
 },
 "nbformat": 4,
 "nbformat_minor": 5
}
