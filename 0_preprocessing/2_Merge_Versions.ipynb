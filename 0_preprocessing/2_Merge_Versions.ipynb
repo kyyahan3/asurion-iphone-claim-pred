{
 "cells": [
  {
   "cell_type": "code",
   "execution_count": 3,
   "metadata": {
    "collapsed": true
   },
   "outputs": [],
   "source": [
    "import pandas as pd"
   ]
  },
  {
   "cell_type": "code",
   "execution_count": 4,
   "metadata": {},
   "outputs": [
    {
     "name": "stdout",
     "output_type": "stream",
     "text": [
      "/gpfs52/data/p_dsi/teams2023/asurion_data\n"
     ]
    }
   ],
   "source": [
    "%cd ~/../../data/p_dsi/teams2023/asurion_data/"
   ]
  },
  {
   "cell_type": "code",
   "execution_count": 32,
   "metadata": {
    "collapsed": true
   },
   "outputs": [],
   "source": [
    "df = pd.read_excel('Asurion_data.xlsx')\n"
   ]
  },
  {
   "cell_type": "code",
   "execution_count": 33,
   "metadata": {},
   "outputs": [
    {
     "data": {
      "text/plain": [
       "array(['alcatel axel', 'alcatel smartflip 4052r', 'alcatel tetra',\n",
       "       'apple iphone 11', 'apple iphone 11 pro', 'apple iphone 11 pro max',\n",
       "       'apple iphone 12', 'apple iphone 12 mini', 'apple iphone 12 pro',\n",
       "       'apple iphone 12 pro max', 'apple iphone 13',\n",
       "       'apple iphone 13 mini', 'apple iphone 13 pro',\n",
       "       'apple iphone 13 pro max', 'apple iphone 14',\n",
       "       'apple iphone 14 pro max', 'apple iphone 3g s', 'apple iphone 4',\n",
       "       'apple iphone 4s', 'apple iphone 5', 'apple iphone 5c',\n",
       "       'apple iphone 5s', 'apple iphone 6', 'apple iphone 6 plus',\n",
       "       'apple iphone 6s', 'apple iphone 6s plus', 'apple iphone 7',\n",
       "       'apple iphone 7 plus', 'apple iphone 8', 'apple iphone 8 plus',\n",
       "       'apple iphone se', 'apple iphone se 2020', 'apple iphone se 2022',\n",
       "       'apple iphone x 256', 'apple iphone x 64', 'apple iphone xr',\n",
       "       'apple iphone xs', 'apple iphone xs max', 'at t cingular flip iv',\n",
       "       'google pixel 4', 'google pixel 4 xl', 'google pixel 4a 5g',\n",
       "       'google pixel 5', 'google pixel 6', 'google pixel 6 pro',\n",
       "       'kyocera duraforce pro 2', 'lg arena 2', 'lg g6 duo', 'lg g8 thinq',\n",
       "       'lg g8x thinq', 'lg k30', 'lg k40', 'lg k92 5g', 'lg neon plus',\n",
       "       'lg phoenix 5', 'lg prime 2', 'lg stylo 4 plus', 'lg stylo 5 plus',\n",
       "       'lg v40 thinq', 'lg v60 thinq 5g', 'lg velvet 5g', 'lg wing 5g',\n",
       "       'lg xpression plus 2', 'lg xpression plus 3', 'motorola one 5g ace',\n",
       "       'nokia 3.1 a', 'red hydrogen one', 'samsung galaxy a01',\n",
       "       'samsung galaxy a02s', 'samsung galaxy a10e', 'samsung galaxy a11',\n",
       "       'samsung galaxy a12', 'samsung galaxy a13', 'samsung galaxy a13 5g',\n",
       "       'samsung galaxy a32 5g', 'samsung galaxy a51',\n",
       "       'samsung galaxy a51 5g', 'samsung galaxy a52 5g',\n",
       "       'samsung galaxy a71 5g', 'samsung galaxy fold',\n",
       "       'samsung galaxy j2 dash', 'samsung galaxy j7',\n",
       "       'samsung galaxy note 10 256', 'samsung galaxy note 10 plus',\n",
       "       'samsung galaxy note 10 plus 5g', 'samsung galaxy note 20 5g',\n",
       "       'samsung galaxy note 20 ultra 5g', 'samsung galaxy note 5 32',\n",
       "       'samsung galaxy note 5 64', 'samsung galaxy note 8 64',\n",
       "       'samsung galaxy note 9', 'samsung galaxy s iii',\n",
       "       'samsung galaxy s10', 'samsung galaxy s10 plus',\n",
       "       'samsung galaxy s10e', 'samsung galaxy s20 5g',\n",
       "       'samsung galaxy s20 fe 5g', 'samsung galaxy s20 plus 5g',\n",
       "       'samsung galaxy s20 ultra 5g', 'samsung galaxy s21 5g',\n",
       "       'samsung galaxy s21 fe 5g', 'samsung galaxy s21 plus 5g',\n",
       "       'samsung galaxy s21 ultra 5g', 'samsung galaxy s22 5g',\n",
       "       'samsung galaxy s22 plus 5g', 'samsung galaxy s22 ultra 5g',\n",
       "       'samsung galaxy s4 16', 'samsung galaxy s6 128',\n",
       "       'samsung galaxy s6 32', 'samsung galaxy s6 64',\n",
       "       'samsung galaxy s6 edge 128', 'samsung galaxy s6 edge 32',\n",
       "       'samsung galaxy s6 edge 64', 'samsung galaxy s6 edge plus 32',\n",
       "       'samsung galaxy s6 edge plus 64', 'samsung galaxy s7',\n",
       "       'samsung galaxy s7 edge', 'samsung galaxy s8',\n",
       "       'samsung galaxy s8 active', 'samsung galaxy s8 plus',\n",
       "       'samsung galaxy s9', 'samsung galaxy s9 plus',\n",
       "       'samsung galaxy z flip', 'samsung galaxy z flip 5g',\n",
       "       'samsung galaxy z flip3 5g', 'samsung galaxy z flip4 5g',\n",
       "       'samsung galaxy z fold2 5g', 'samsung galaxy z fold3 5g'], dtype=object)"
      ]
     },
     "execution_count": 33,
     "metadata": {},
     "output_type": "execute_result"
    }
   ],
   "source": [
    "df['phone model'].unique()"
   ]
  },
  {
   "cell_type": "code",
   "execution_count": 38,
   "metadata": {},
   "outputs": [
    {
     "data": {
      "text/plain": [
       "array(['alcatel axel', 'alcatel smartflip 4052r', 'alcatel tetra',\n",
       "       'apple iphone 11', 'apple iphone 12', 'apple iphone 13',\n",
       "       'apple iphone 14', 'apple iphone 3g s', 'apple iphone 4',\n",
       "       'apple iphone 4s', 'apple iphone 5', 'apple iphone 5s',\n",
       "       'apple iphone 6', 'apple iphone 6s', 'apple iphone 7',\n",
       "       'apple iphone 8', 'apple iphone se', 'apple iphone se 2020',\n",
       "       'apple iphone se 2022', 'apple iphone x', 'apple iphone xr',\n",
       "       'apple iphone xs', 'at t cingular flip iv', 'google pixel 4',\n",
       "       'google pixel 4a', 'google pixel 5', 'google pixel 6',\n",
       "       'kyocera duraforce pro 2', 'lg arena 2', 'lg g6 duo', 'lg g8 thinq',\n",
       "       'lg g8x thinq', 'lg k30', 'lg k40', 'lg k92', 'lg neon',\n",
       "       'lg phoenix 5', 'lg prime 2', 'lg stylo 4', 'lg stylo 5',\n",
       "       'lg v40 thinq', 'lg v60 thinq', 'lg velvet', 'lg wing',\n",
       "       'lg xpression plus 2', 'lg xpression plus 3', 'motorola one  ace',\n",
       "       'nokia 3.1 a', 'red hydrogen one', 'samsung galaxy a01',\n",
       "       'samsung galaxy a02s', 'samsung galaxy a10', 'samsung galaxy a11',\n",
       "       'samsung galaxy a12', 'samsung galaxy a13', 'samsung galaxy a32',\n",
       "       'samsung galaxy a51', 'samsung galaxy a52', 'samsung galaxy a71',\n",
       "       'samsung galaxy fold', 'samsung galaxy j2 dash',\n",
       "       'samsung galaxy j7', 'samsung galaxy note 10',\n",
       "       'samsung galaxy note 20', 'samsung galaxy note 5',\n",
       "       'samsung galaxy note 8', 'samsung galaxy note 9',\n",
       "       'samsung galaxy s iii', 'samsung galaxy s10', 'samsung galaxy s20',\n",
       "       'samsung galaxy s20 fe', 'samsung galaxy s21',\n",
       "       'samsung galaxy s21 fe', 'samsung galaxy s22',\n",
       "       'samsung galaxy s4 16', 'samsung galaxy s6', 'samsung galaxy s7',\n",
       "       'samsung galaxy s8', 'samsung galaxy s9', 'samsung galaxy z flip',\n",
       "       'samsung galaxy z flip3', 'samsung galaxy z flip4',\n",
       "       'samsung galaxy z fold2', 'samsung galaxy z fold3'], dtype=object)"
      ]
     },
     "execution_count": 38,
     "metadata": {},
     "output_type": "execute_result"
    }
   ],
   "source": [
    "\n",
    "df['phone model'] = df['phone model'].str.replace('mini', '')\n",
    "df['phone model'] = df['phone model'].str.replace('max', '')\n",
    "df['phone model'] = df['phone model'].str.replace('xl', '')\n",
    "\n",
    "df['phone model'] = df['phone model'].str.replace(' plus ', ' + ')\n",
    "df['phone model'] = df['phone model'].str.replace('plus', '')\n",
    "df['phone model'] = df['phone model'].str.replace('+', 'plus')\n",
    "\n",
    "\n",
    "# Kyocera Durforce Pro\n",
    "df['phone model'] = df['phone model'].str.replace(' pro ', ' - ')\n",
    "df['phone model'] = df['phone model'].str.replace('pro', '')\n",
    "df['phone model'] = df['phone model'].str.replace('-', 'pro')\n",
    "\n",
    "\n",
    "df['phone model'] = df['phone model'].str.replace('5g', '')\n",
    "# df['phone model'] = df['phone model'].str.replace('4a', '4')\n",
    "df['phone model'] = df['phone model'].str.replace('5c', '5s')\n",
    "\n",
    "df['phone model'] = df['phone model'].str.replace(' 32', '')\n",
    "df['phone model'] = df['phone model'].str.replace(' 64', '')\n",
    "df['phone model'] = df['phone model'].str.replace(' 128', '')\n",
    "df['phone model'] = df['phone model'].str.replace(' 256', '')\n",
    "df['phone model'] = df['phone model'].str.replace('ultra', '')\n",
    "df['phone model'] = df['phone model'].str.replace('active', '')\n",
    "df['phone model'] = df['phone model'].str.replace('edge', '')\n",
    "df['phone model'] = df['phone model'].str.replace('10e', '10')\n",
    "\n",
    "df['phone model'] = df['phone model'].str.strip()\n",
    "df['phone model'].unique()"
   ]
  },
  {
   "cell_type": "code",
   "execution_count": 39,
   "metadata": {},
   "outputs": [
    {
     "data": {
      "text/plain": [
       "84"
      ]
     },
     "execution_count": 39,
     "metadata": {},
     "output_type": "execute_result"
    }
   ],
   "source": [
    "len(df['phone model'].unique())"
   ]
  },
  {
   "cell_type": "code",
   "execution_count": 40,
   "metadata": {
    "collapsed": true
   },
   "outputs": [],
   "source": [
    "df.to_excel('../team1/combined_phone_data.xlsx')"
   ]
  },
  {
   "cell_type": "code",
   "execution_count": null,
   "metadata": {
    "collapsed": true
   },
   "outputs": [],
   "source": []
  }
 ],
 "metadata": {
  "kernelspec": {
   "display_name": "Python 3",
   "language": "python",
   "name": "python3"
  },
  "language_info": {
   "codemirror_mode": {
    "name": "ipython",
    "version": 3
   },
   "file_extension": ".py",
   "mimetype": "text/x-python",
   "name": "python",
   "nbconvert_exporter": "python",
   "pygments_lexer": "ipython3",
   "version": "3.6.3"
  }
 },
 "nbformat": 4,
 "nbformat_minor": 2
}
